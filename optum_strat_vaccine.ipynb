{
  "nbformat": 4,
  "nbformat_minor": 0,
  "metadata": {
    "colab": {
      "provenance": []
    },
    "kernelspec": {
      "name": "python3",
      "display_name": "Python 3"
    },
    "language_info": {
      "name": "python"
    },
    "gpuClass": "standard"
  },
  "cells": [
    {
      "cell_type": "code",
      "execution_count": null,
      "metadata": {
        "colab": {
          "base_uri": "https://localhost:8080/"
        },
        "id": "_TpHCKATbhyS",
        "outputId": "b2b6b90f-9408-48b4-b9e3-0d1a4a1bd029"
      },
      "outputs": [
        {
          "output_type": "stream",
          "name": "stdout",
          "text": [
            "/content/drive/MyDrive/optum/csv\n"
          ]
        }
      ],
      "source": [
        "%cd '/content/drive/MyDrive/optum/csv/'"
      ]
    },
    {
      "cell_type": "code",
      "source": [
        "import torch\n",
        "import torch.nn as nn\n",
        "import torch.nn.functional as F\n",
        "from torch.utils.data import Dataset, DataLoader\n",
        "from sklearn.model_selection import train_test_split\n",
        "from sklearn.preprocessing import StandardScaler\n",
        "\n",
        "import numpy as np\n",
        "import pandas as pd\n",
        "import matplotlib.pyplot as plt\n",
        "from sklearn.preprocessing import LabelEncoder"
      ],
      "metadata": {
        "id": "VpgHLupVcJF7"
      },
      "execution_count": null,
      "outputs": []
    },
    {
      "cell_type": "code",
      "source": [
        "data = pd.read_csv('patient-vaccine.csv')"
      ],
      "metadata": {
        "id": "TQiIL5bxcPkS"
      },
      "execution_count": null,
      "outputs": []
    },
    {
      "cell_type": "code",
      "source": [
        "data = data.drop([\"DESCRIPTION\"], axis=1)"
      ],
      "metadata": {
        "id": "cWHB9PKPdlKr"
      },
      "execution_count": null,
      "outputs": []
    },
    {
      "cell_type": "code",
      "source": [
        "#g = set()\n",
        "for i in range(len(data)):\n",
        "    if(data.loc[i, \"GENDER\"] == 'M'):\n",
        "      data.loc[i, \"GENDER\"] = 0\n",
        "    elif(data.loc[i, \"GENDER\"] == 'F'):\n",
        "      data.loc[i, \"GENDER\"] = 1"
      ],
      "metadata": {
        "id": "8wWZc3TFJ1eW"
      },
      "execution_count": null,
      "outputs": []
    },
    {
      "cell_type": "code",
      "source": [
        "for i in range(len(data)):\n",
        "  age = 2022 - int((data.loc[i, \"BIRTHDATE\"]).split('-')[0])\n",
        "  data.loc[i, \"BIRTHDATE\"] = age\n",
        "\n",
        "data.rename(columns = {'BIRTHDATE':'AGE'}, inplace = True)"
      ],
      "metadata": {
        "id": "UPZdSuurJ7wA"
      },
      "execution_count": null,
      "outputs": []
    },
    {
      "cell_type": "code",
      "source": [
        "encoder = LabelEncoder()\n",
        "data['COUNTY'] = encoder.fit_transform(data['COUNTY'])\n",
        "\n",
        "data"
      ],
      "metadata": {
        "id": "SDDkG6BwJ7tt"
      },
      "execution_count": null,
      "outputs": []
    },
    {
      "cell_type": "code",
      "source": [
        "encoder = LabelEncoder()\n",
        "data['PATIENT'] = encoder.fit_transform(data['PATIENT'])\n",
        "\n",
        "data"
      ],
      "metadata": {
        "id": "zB9VnQ5tQAdM"
      },
      "execution_count": null,
      "outputs": []
    },
    {
      "cell_type": "code",
      "source": [
        "encoder = LabelEncoder()\n",
        "data['CODE'] = encoder.fit_transform(data['CODE'])\n",
        "\n",
        "data"
      ],
      "metadata": {
        "id": "vrbZpx2kUMKB"
      },
      "execution_count": null,
      "outputs": []
    },
    {
      "cell_type": "code",
      "source": [
        "data = data.drop([\"PATIENT\"], axis=1)"
      ],
      "metadata": {
        "id": "nneXdgjkfQmJ"
      },
      "execution_count": null,
      "outputs": []
    },
    {
      "cell_type": "code",
      "source": [
        "dict ={}\n",
        "classes = 22\n",
        "\n",
        "for i in range(len(data)):\n",
        "    row = (data.loc[i, \"GENDER\"], data.loc[i, \"COUNTY\"], data.loc[i, \"AGE\"])\n",
        "    #temp_vec = np.zeros(classes)\n",
        "    if(row in dict.keys()):\n",
        "      exist_vec = dict[row]\n",
        "      exist_vec[data.loc[i, \"CODE\"]] = 10\n",
        "    else:\n",
        "      temp_vec = np.zeros(classes)\n",
        "      temp_vec[data.loc[i, \"CODE\"]] = 10\n",
        "      dict[row] = temp_vec"
      ],
      "metadata": {
        "id": "v500XugsfeET"
      },
      "execution_count": null,
      "outputs": []
    },
    {
      "cell_type": "code",
      "source": [
        "list = []\n",
        "\n",
        "for key in dict.keys():\n",
        "  feauture = []\n",
        "  feauture.extend([key[0],key[1],key[2]])\n",
        "  vec = dict[key]\n",
        "  feauture.append(vec)\n",
        "  list.append(feauture)"
      ],
      "metadata": {
        "id": "818o7D7AYx1x"
      },
      "execution_count": null,
      "outputs": []
    },
    {
      "cell_type": "code",
      "source": [
        "df = pd.DataFrame(list, columns=['A', 'B', 'C', 'D'])"
      ],
      "metadata": {
        "id": "4_e6_MUYaQeH"
      },
      "execution_count": null,
      "outputs": []
    },
    {
      "cell_type": "code",
      "source": [
        "X = df.drop(\"D\",axis=1).values\n",
        "y = df[\"D\"].values"
      ],
      "metadata": {
        "id": "-G89kNWha862"
      },
      "execution_count": null,
      "outputs": []
    },
    {
      "cell_type": "code",
      "source": [
        "master_list = []\n",
        "for array in y:\n",
        "    master_list.append(array)\n",
        "\n",
        "y = np.vstack(master_list)"
      ],
      "metadata": {
        "id": "_sD8fQWEehGm"
      },
      "execution_count": null,
      "outputs": []
    },
    {
      "cell_type": "code",
      "source": [
        "X_train, X_test, y_train, y_test = train_test_split(X,y,test_size=0.10)"
      ],
      "metadata": {
        "id": "9AbN0iq3lzcZ"
      },
      "execution_count": null,
      "outputs": []
    },
    {
      "cell_type": "code",
      "source": [
        "X_train = torch.FloatTensor(X_train)\n",
        "X_test = torch.FloatTensor(X_test)\n",
        "y_train = torch.Tensor(y_train)\n",
        "y_test = torch.Tensor(y_test)"
      ],
      "metadata": {
        "id": "_gt49fJUGaRS"
      },
      "execution_count": null,
      "outputs": []
    },
    {
      "cell_type": "code",
      "source": [
        "class Vaccine(nn.Module):\n",
        "    def __init__(self, **kwargs):\n",
        "        super().__init__()\n",
        "        self.encoder_layer = nn.Linear(in_features=kwargs[\"input_shape\"], out_features=40)\n",
        "        self.decoder_layer = nn.Linear(in_features=40, out_features=22)\n",
        "\n",
        "    def forward(self, features):\n",
        "        input = self.encoder_layer(features)\n",
        "        activation = torch.relu(input)\n",
        "        output = self.decoder_layer(activation)\n",
        "        out = torch.relu(output)\n",
        "        return out"
      ],
      "metadata": {
        "id": "SxFDyUAjGzq1"
      },
      "execution_count": null,
      "outputs": []
    },
    {
      "cell_type": "code",
      "source": [
        "import torch.optim as optim\n",
        "epochs = 1000\n",
        "learning_rate = 1e-3 "
      ],
      "metadata": {
        "id": "c_Tnffi-O1Q2"
      },
      "execution_count": null,
      "outputs": []
    },
    {
      "cell_type": "code",
      "source": [
        "#  use gpu if available\n",
        "device = torch.device(\"cuda\" if torch.cuda.is_available() else \"cpu\")\n",
        "\n",
        "model = Vaccine(input_shape=3).to(device)\n",
        "\n",
        "optimizer = optim.SGD(model.parameters(), lr=learning_rate)\n",
        "\n",
        "criterion = nn.MSELoss()"
      ],
      "metadata": {
        "id": "gMASHwOrO3Xm"
      },
      "execution_count": null,
      "outputs": []
    },
    {
      "cell_type": "code",
      "source": [
        "for epoch in range(epochs):\n",
        "    loss = 0\n",
        "    #count = 0\n",
        "    for i in range(len(X_train)):\n",
        "        \n",
        "        batch_features = X_train[i]\n",
        "        batch_features = batch_features.to(device)\n",
        "        \n",
        "        optimizer.zero_grad()\n",
        "        \n",
        "        outputs = model(batch_features)\n",
        "        train_loss = criterion(outputs, y_train[i])\n",
        "\n",
        "        train_loss.backward()\n",
        "        optimizer.step()\n",
        "        loss += train_loss.item()\n",
        "    \n",
        "    \n",
        "    loss = loss / len(X_train)\n",
        "    \n",
        "    if(epoch % 10 == 0):\n",
        "      print(\"epoch : {}/{}, loss = {:.8f}\".format(epoch + 1, epochs, loss))"
      ],
      "metadata": {
        "id": "jWLClF4mO5EG"
      },
      "execution_count": null,
      "outputs": []
    },
    {
      "cell_type": "code",
      "source": [
        "test_examples = []\n",
        "reconstruction = []\n",
        "\n",
        "with torch.no_grad():\n",
        "    #count=0\n",
        "    for i in range(len(X_test)):\n",
        "        batch_features = X_test[i]\n",
        "        test_examples.append(y_test[i].numpy())\n",
        "        batch_features = batch_features.to(device)\n",
        "        reconstruction.append((model(batch_features).cpu()).numpy())"
      ],
      "metadata": {
        "id": "aWrD0mlggGO0"
      },
      "execution_count": null,
      "outputs": []
    },
    {
      "cell_type": "code",
      "source": [
        "with torch.no_grad():\n",
        "    number = 20\n",
        "    \n",
        "    for index in range(number):\n",
        "        print(test_examples[index])\n",
        "        print(reconstruction[index])\n",
        "        print(\"\\n\\n\")"
      ],
      "metadata": {
        "colab": {
          "base_uri": "https://localhost:8080/"
        },
        "id": "PgY7Uv3igIE6",
        "outputId": "6d1cc32b-7dca-4a0f-9e59-34345462bc47"
      },
      "execution_count": null,
      "outputs": [
        {
          "output_type": "stream",
          "name": "stdout",
          "text": [
            "[ 0.  0.  0.  0.  0.  0.  0.  0.  0.  0.  0. 10.  0.  0.  0.  0.  0. 10.\n",
            "  0. 10.  0.  0.]\n",
            "[0.       0.       0.       0.       0.       0.       0.       0.\n",
            " 0.       0.       0.       9.588057 0.       0.       0.       0.\n",
            " 0.       9.592865 0.       0.       0.       0.      ]\n",
            "\n",
            "\n",
            "\n",
            "[ 0.  0.  0.  0.  0.  0. 10.  0. 10.  0.  0. 10.  0.  0.  0.  0.  0. 10.\n",
            "  0.  0. 10.  0.]\n",
            "[0.        0.        0.        0.        0.        0.3713777 0.\n",
            " 0.        0.        0.        0.        9.643013  0.        0.\n",
            " 0.        0.        0.        9.632902  0.        0.        0.\n",
            " 0.       ]\n",
            "\n",
            "\n",
            "\n",
            "[ 0.  0.  0.  0.  0.  0.  0.  0.  0.  0.  0. 10.  0.  0.  0.  0.  0. 10.\n",
            "  0. 10. 10.  0.]\n",
            "[0.       0.       0.       0.       0.       0.       0.       0.\n",
            " 0.       0.       0.       9.574054 0.       0.       0.       0.\n",
            " 0.       9.609198 0.       0.       0.       0.      ]\n",
            "\n",
            "\n",
            "\n",
            "[ 0.  0.  0.  0.  0.  0.  0.  0. 10.  0.  0. 10.  0.  0.  0.  0.  0. 10.\n",
            "  0.  0. 10.  0.]\n",
            "[0.        0.        0.        0.        0.        0.        0.\n",
            " 0.        0.        0.        0.        9.8096485 0.        0.\n",
            " 0.        0.        0.        9.773861  0.        0.        0.\n",
            " 0.       ]\n",
            "\n",
            "\n",
            "\n",
            "[10. 10. 10. 10. 10.  0. 10. 10.  0.  0. 10. 10. 10.  0.  0.  0.  0. 10.\n",
            "  0. 10.  0.  0.]\n",
            "[0.       0.       0.       0.       0.       0.       0.       0.\n",
            " 0.       0.       0.       9.893814 6.591625 0.       0.       0.\n",
            " 0.       9.789733 0.       0.       0.       0.      ]\n",
            "\n",
            "\n",
            "\n",
            "[ 0.  0.  0.  0.  0.  0.  0.  0.  0. 10.  0.  0. 10. 10.  0.  0.  0. 10.\n",
            "  0. 10.  0.  0.]\n",
            "[0.        0.        1.1062558 0.6650964 0.5144252 0.        0.\n",
            " 0.        0.        8.688108  0.        0.        8.344672  0.\n",
            " 0.        0.        0.        9.984011  0.        0.        0.\n",
            " 0.       ]\n",
            "\n",
            "\n",
            "\n",
            "[ 0.  0.  0.  0.  0. 10.  0.  0.  0.  0.  0. 10.  0.  0.  0.  0. 10. 10.\n",
            "  0.  0.  0.  0.]\n",
            "[ 0.         0.         0.         0.         0.         6.8633866\n",
            "  0.         0.         0.         0.         0.        10.387855\n",
            "  0.         0.         0.         0.         0.        10.189152\n",
            "  0.         0.         0.         0.       ]\n",
            "\n",
            "\n",
            "\n",
            "[ 0.  0.  0.  0.  0.  0. 10.  0.  0.  0.  0. 10. 10.  0.  0.  0.  0. 10.\n",
            "  0. 10.  0.  0.]\n",
            "[ 0.         0.         0.         0.         0.         0.\n",
            "  0.         0.         0.         0.         0.         9.998634\n",
            "  4.2155657  0.         0.         0.         0.        10.035118\n",
            "  0.         0.         0.         0.       ]\n",
            "\n",
            "\n",
            "\n",
            "[ 0.  0.  0.  0.  0.  0.  0.  0. 10.  0.  0. 10.  0.  0.  0. 10.  0. 10.\n",
            "  0. 10. 10.  0.]\n",
            "[0.        0.        0.        0.        0.        2.2900405 0.\n",
            " 0.        0.        0.        0.        9.9467325 0.        0.\n",
            " 0.        0.        0.        9.832042  0.        0.        0.\n",
            " 0.       ]\n",
            "\n",
            "\n",
            "\n",
            "[ 0.  0.  0.  0.  0. 10.  0.  0.  0.  0.  0. 10.  0.  0.  0.  0. 10. 10.\n",
            "  0. 10.  0.  0.]\n",
            "[ 0.        0.        0.        0.        0.        5.48953   0.\n",
            "  0.        0.        0.        0.       10.133596  0.        0.\n",
            "  0.        0.        0.       10.020454  0.        0.        0.\n",
            "  0.      ]\n",
            "\n",
            "\n",
            "\n",
            "[10. 10. 10. 10. 10.  0. 10. 10.  0.  0. 10. 10. 10.  0.  0.  0.  0. 10.\n",
            "  0. 10. 10.  0.]\n",
            "[ 0.        0.        0.        0.        0.        0.        0.\n",
            "  0.        0.        0.        0.       10.082495  8.979829  0.\n",
            "  0.        0.        0.       10.180395  0.        0.        0.\n",
            "  0.      ]\n",
            "\n",
            "\n",
            "\n",
            "[ 0.  0.  0.  0.  0. 10.  0.  0.  0.  0.  0. 10.  0.  0.  0.  0. 10. 10.\n",
            "  0. 10.  0.  0.]\n",
            "[0.        0.        0.        0.        0.        5.4994516 0.\n",
            " 0.        0.        0.        0.        9.826017  0.        0.\n",
            " 0.        0.        0.        9.810064  0.        0.        0.\n",
            " 0.       ]\n",
            "\n",
            "\n",
            "\n",
            "[ 0.  0.  0.  0.  0.  0.  0.  0. 10.  0.  0. 10.  0.  0.  0. 10.  0. 10.\n",
            "  0.  0. 10.  0.]\n",
            "[0.        0.        0.        0.        0.        2.8962855 0.\n",
            " 0.        0.        0.        0.        9.62597   0.        0.\n",
            " 0.        0.        0.        9.603752  0.        0.        0.\n",
            " 0.       ]\n",
            "\n",
            "\n",
            "\n",
            "[ 0.  0.  0.  0.  0.  0.  0.  0.  0.  0.  0. 10.  0.  0.  0. 10.  0. 10.\n",
            "  0.  0. 10.  0.]\n",
            "[0.        0.        0.        0.        0.        2.1413732 0.\n",
            " 0.        0.        0.        0.        9.641296  0.        0.\n",
            " 0.        0.        0.        9.6366    0.        0.        0.\n",
            " 0.       ]\n",
            "\n",
            "\n",
            "\n",
            "[ 0.  0.  0.  0.  0.  0.  0.  0. 10.  0.  0. 10.  0.  0.  0. 10.  0. 10.\n",
            "  0. 10. 10.  0.]\n",
            "[0.        0.        0.        0.        0.        1.8244904 0.\n",
            " 0.        0.        0.        0.        9.784082  0.        0.\n",
            " 0.        0.        0.        9.701403  0.        0.        0.\n",
            " 0.       ]\n",
            "\n",
            "\n",
            "\n",
            "[ 0.  0.  0.  0.  0.  0. 10.  0.  0.  0.  0. 10. 10.  0.  0.  0.  0. 10.\n",
            "  0.  0. 10.  0.]\n",
            "[0.        0.        0.        0.        0.        0.        0.\n",
            " 0.        0.        0.        0.        5.8490095 8.059047  0.\n",
            " 0.        0.        0.        9.863214  0.        0.        0.\n",
            " 0.       ]\n",
            "\n",
            "\n",
            "\n",
            "[ 0.  0.  0.  0.  0.  0.  0.  0.  0.  0.  0. 10.  0.  0.  0.  0.  0. 10.\n",
            "  0.  0. 10.  0.]\n",
            "[0.       0.       0.       0.       0.       0.       0.       0.\n",
            " 0.       0.       0.       9.674164 0.       0.       0.       0.\n",
            " 0.       9.628653 0.       0.       0.       0.      ]\n",
            "\n",
            "\n",
            "\n",
            "[10. 10. 10. 10. 10.  0.  0. 10.  0.  0. 10.  0.  0.  0. 10.  0. 10. 10.\n",
            "  0.  0.  0.  0.]\n",
            "[0.        9.825825  9.242     9.197643  8.3969755 0.        0.\n",
            " 9.907578  0.        0.        0.        0.        0.        0.\n",
            " 9.801756  0.        9.943896  9.571993  0.        0.        0.\n",
            " 0.       ]\n",
            "\n",
            "\n",
            "\n",
            "[ 0.  0.  0.  0.  0. 10.  0.  0.  0.  0.  0. 10.  0.  0.  0.  0. 10. 10.\n",
            "  0. 10. 10.  0.]\n",
            "[0.       0.       0.       0.       0.       6.119916 0.       0.\n",
            " 0.       0.       0.       9.795725 0.       0.       0.       0.\n",
            " 0.       9.812468 0.       0.       0.       0.      ]\n",
            "\n",
            "\n",
            "\n",
            "[ 0.  0.  0.  0.  0.  0.  0.  0.  0.  0.  0. 10.  0.  0.  0.  0.  0. 10.\n",
            "  0. 10. 10.  0.]\n",
            "[0.       0.       0.       0.       0.       0.       0.       0.\n",
            " 0.       0.       0.       9.737577 0.       0.       0.       0.\n",
            " 0.       9.769791 0.       0.       0.       0.      ]\n",
            "\n",
            "\n",
            "\n"
          ]
        }
      ]
    }
  ]
}